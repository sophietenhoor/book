{
 "cells": [
  {
   "cell_type": "markdown",
   "id": "9ca780e6-4777-4af4-a3f3-e1444e016768",
   "metadata": {},
   "source": [
    "# Apply\n",
    "\n",
    "::::::{attention}\n",
    "This page shows a preview of the assignment. Please fork and clone the assignment to work on it locally from [GitHub](https://github.com/CIEM5000-2025/practice-assignments)\n",
    "\n",
    "After the workshop, the solution will be added to this preview and to the [GitHub-repository](https://github.com/CIEM5000-2025/practice-assignments)\n",
    "::::::\n",
    "\n",
    "In this notebook you will work on a homework assignment involving a Vierendeel frame."
   ]
  },
  {
   "cell_type": "markdown",
   "id": "568856ef",
   "metadata": {},
   "source": [
    "Our matrix method implementation is now completely stored in a local package, consisting of three classes."
   ]
  },
  {
   "cell_type": "markdown",
   "id": "29ca0970",
   "metadata": {},
   "source": [
    "```{custom_download_link} ./Workshop_1_Apply_stripped.ipynb\n",
    ":text: \".ipynb\"\n",
    ":replace_default: \"True\"\n",
    "```\n",
    "\n",
    "```{custom_download_link} ./Workshop_1_Apply.md\n",
    ":text: \".md:myst\"\n",
    ":replace_default: \"False\"\n",
    "```\n",
    "\n",
    "```{custom_download_link} https://github.com/CIEM5000-2025/practice-assignments\n",
    ":text: \"All files practice assignments\"\n",
    ":replace_default: \"False\"\n",
    "```"
   ]
  },
  {
   "cell_type": "markdown",
   "id": "aa647b73-f511-4581-a3c4-15f7a8228267",
   "metadata": {},
   "source": [
    "## Vierendeel frame"
   ]
  },
  {
   "cell_type": "markdown",
   "id": "09883360-5e5b-4a00-bb00-bd7431fa0bb2",
   "metadata": {},
   "source": [
    "```{figure} https://raw.githubusercontent.com/ibcmrocha/public/main/vierendeel.png\n",
    ":align: center\n",
    ":width: 400\n",
    "```\n",
    "\n",
    "With:\n",
    "\n",
    "- $h = 1$\n",
    "- $b = 1$\n",
    "- $EI_r = 10000$\n",
    "- $EI_k = 1000$\n",
    "- $EA  = 1\\cdot 10^{10}$\n",
    "- $H = 100$"
   ]
  },
  {
   "cell_type": "markdown",
   "id": "8c2a2cb4-69b8-4068-95d7-a716fa34bdc7",
   "metadata": {},
   "source": [
    "In the first half of this course last quarter, you have learned that the deformation of Vierendeel frames (an example of which is shown above) can be obtained in a simplified way by assuming the global deformation can be described by a shear beam with equivalent stiffness given by:\n",
    "\n",
    "$$\n",
    "k = \\frac{24}{h\\left(\\displaystyle\\frac{h}{EI_k}+\\frac{b}{EI_r}\\right)}\n",
    "$$\n",
    "\n",
    "```{exercise-start} Workshop 1 - Apply\n",
    ":label: exercise_ws_1\n",
    ":nonumber: true\n",
    "\n",
    "Now that you have the tools to solve the original frame problem using the Matrix Method, your task in this assignment is to investigate the validity of this equivalent shear beam model.\n",
    "\n",
    "Note that the checks only had a single element. For this model you need to obtain $\\mathbf{K}$ and $\\mathbf{f}$ of all elements and add them to the correct locations in the global stiffness matrix and force vector. To do that, make use of the `global_dofs` function of the Element class and the `np.ix_` Numpy utility function. (Tip: refer back to what you did in the `constrain` function).\n",
    "\n",
    "Once you have a solution, use SymPy / Maple / pen and paper to solve a shear beam problem with the equivalent stiffness given above (It is very similar to the simple extension problem above) and compare the horizontal displacement at the point of application of $H$ for the two models.\n",
    "\n",
    "Investigate how the two models compare for different values of $EA$, ranging from very small (*e.g.* $1\\cdot 10^{-5}$) to very large (*e.g.* $1\\cdot10^{10}$). What explains the behavior you observe?\n",
    "```"
   ]
  },
  {
   "cell_type": "code",
   "execution_count": 2,
   "id": "844ebb36",
   "metadata": {
    "tags": [
     "thebe-remove-input-init"
    ]
   },
   "outputs": [],
   "source": [
    "import matplotlib as plt\n",
    "import numpy as np\n",
    "#sys.path.insert(1, '/matrixmethod_solution')\n",
    "import matrixmethod_solution as mm\n",
    "%config InlineBackend.figure_formats = ['svg']"
   ]
  },
  {
   "cell_type": "code",
   "execution_count": 3,
   "id": "e7aeba39",
   "metadata": {
    "tags": [
     "remove-cell"
    ]
   },
   "outputs": [],
   "source": [
    "import matplotlib as plt\n",
    "import numpy as np\n",
    "import matrixmethod_solution as mm\n",
    "%config InlineBackend.figure_formats = ['svg']"
   ]
  },
  {
   "cell_type": "code",
   "execution_count": 5,
   "id": "178db911",
   "metadata": {
    "tags": [
     "disable-execution-cell"
    ]
   },
   "outputs": [],
   "source": [
    "import numpy as np\n",
    "import matplotlib as plt\n",
    "#import matrixmethod as mm\n",
    "%config InlineBackend.figure_formats = ['svg']"
   ]
  },
  {
   "cell_type": "code",
   "execution_count": 17,
   "id": "e9456735-d5b2-4f9e-b7c5-e8ef69077468",
   "metadata": {},
   "outputs": [],
   "source": [
    "mm.Node.clear()\n",
    "mm.Element.clear()"
   ]
  },
  {
   "cell_type": "code",
   "execution_count": 18,
   "id": "4e69856b",
   "metadata": {},
   "outputs": [],
   "source": [
    "h = 1\n",
    "b = 1\n",
    "EI_r = 10000\n",
    "EI_k = 1000\n",
    "EA = 1e10\n",
    "H = 100"
   ]
  },
  {
   "cell_type": "code",
   "execution_count": null,
   "id": "c5518574-b460-47a1-8537-cd45bd9451e2",
   "metadata": {},
   "outputs": [
    {
     "name": "stdout",
     "output_type": "stream",
     "text": [
      "[<matrixmethod_solution.node.Node object at 0x000002410C8BCF80>, <matrixmethod_solution.node.Node object at 0x000002410C8BF710>, <matrixmethod_solution.node.Node object at 0x000002410BD3F590>, <matrixmethod_solution.node.Node object at 0x000002410C8BE600>]\n",
      "Element connecting:\n",
      "node #1:\n",
      " This node has:\n",
      " - x coordinate=0,\n",
      " - z coordinate=0,\n",
      " - degrees of freedom=[0, 1, 2],\n",
      " - load vector=[0. 0. 0.]\n",
      "with node #2:\n",
      " This node has:\n",
      " - x coordinate=1,\n",
      " - z coordinate=0,\n",
      " - degrees of freedom=[3, 4, 5],\n",
      " - load vector=[0. 0. 0.]\n",
      "Element connecting:\n",
      "node #1:\n",
      " This node has:\n",
      " - x coordinate=1,\n",
      " - z coordinate=0,\n",
      " - degrees of freedom=[3, 4, 5],\n",
      " - load vector=[0. 0. 0.]\n",
      "with node #2:\n",
      " This node has:\n",
      " - x coordinate=1,\n",
      " - z coordinate=-1,\n",
      " - degrees of freedom=[6, 7, 8],\n",
      " - load vector=[0. 0. 0.]\n",
      "Element connecting:\n",
      "node #1:\n",
      " This node has:\n",
      " - x coordinate=1,\n",
      " - z coordinate=-1,\n",
      " - degrees of freedom=[6, 7, 8],\n",
      " - load vector=[0. 0. 0.]\n",
      "with node #2:\n",
      " This node has:\n",
      " - x coordinate=0,\n",
      " - z coordinate=-1,\n",
      " - degrees of freedom=[9, 10, 11],\n",
      " - load vector=[0. 0. 0.]\n",
      "Element connecting:\n",
      "node #1:\n",
      " This node has:\n",
      " - x coordinate=0,\n",
      " - z coordinate=0,\n",
      " - degrees of freedom=[0, 1, 2],\n",
      " - load vector=[0. 0. 0.]\n",
      "with node #2:\n",
      " This node has:\n",
      " - x coordinate=0,\n",
      " - z coordinate=-1,\n",
      " - degrees of freedom=[9, 10, 11],\n",
      " - load vector=[0. 0. 0.]\n"
     ]
    }
   ],
   "source": [
    "nodes = []\n",
    "\n",
    "nodes.append(mm.Node(0, 0))\n",
    "nodes.append(mm.Node(b, 0))\n",
    "nodes.append(mm.Node(b, -h))\n",
    "nodes.append(mm.Node(0, -h))\n",
    "\n",
    "print(nodes)\n",
    "\n",
    "elems = []\n",
    "\n",
    "elems.append(mm.Element(nodes[0], nodes[1]))\n",
    "elems.append(mm.Element(nodes[1], nodes[2]))\n",
    "elems.append(mm.Element(nodes[2], nodes[3]))\n",
    "elems.append(mm.Element(nodes[0], nodes[3]))\n",
    "\n",
    "beams = {}\n",
    "columns = {}\n",
    "beams['EI'] = EI_r\n",
    "beams['EA'] = EA\n",
    "columns['EI'] = EI_k\n",
    "columns['EA'] = EA\n",
    "\n",
    "elems[0].set_section(beams)\n",
    "elems[2].set_section(beams)\n",
    "elems[1].set_section(columns)\n",
    "elems[3].set_section(columns)\n",
    "\n",
    "for elem in elems:\n",
    "    print(elem)\n",
    "\n",
    "con = mm.Constrainer()\n",
    "\n",
    "con.fix_dof(nodes[0], 0)\n",
    "con.fix_dof(nodes[0], 1)\n",
    "con.fix_dof(nodes[1], 1)\n",
    "\n",
    "nodes[3].add_load([H, 0, 0])\n",
    "\n",
    "    \n"
   ]
  },
  {
   "cell_type": "code",
   "execution_count": 23,
   "id": "e8113fb3",
   "metadata": {},
   "outputs": [
    {
     "name": "stdout",
     "output_type": "stream",
     "text": [
      "[-4.16667982e-04  4.99999539e-09 -4.16665674e-04  4.58333833e-03\n",
      "  4.99999807e-09 -4.16675352e-04  4.58334333e-03 -4.99999806e-09\n",
      " -4.16677659e-04]\n"
     ]
    }
   ],
   "source": [
    "global_k = np.zeros((3*len(nodes), 3*len(nodes)))\n",
    "global_f = np.zeros(3*len(nodes))\n",
    "\n",
    "for elem in elems:\n",
    "    elmat = elem.stiffness()\n",
    "    idofs = elem.global_dofs()\n",
    "\n",
    "    global_k[np.ix_(idofs, idofs)] += elmat\n",
    "\n",
    "for node in nodes:\n",
    "    global_f[node.dofs] += node.p\n",
    "\n",
    "\n",
    "Kff, Ff = con.constrain(global_k, global_f)\n",
    "u = np.matmul(np.linalg.inv(Kff), Ff)\n",
    "print(u)"
   ]
  },
  {
   "cell_type": "code",
   "execution_count": null,
   "id": "9f2b20cd",
   "metadata": {},
   "outputs": [],
   "source": [
    "#provided in case you want to solve the shear beam problem using SymPy\n",
    "import sympy as sym\n",
    "x, k, L, H = sym.symbols('x, k, L, H')\n",
    "w = sym.Function('w')\n",
    "\n",
    "ODE_shear = #YOUR CODE HERE"
   ]
  },
  {
   "cell_type": "markdown",
   "id": "f8230e4c",
   "metadata": {},
   "source": [
    "```{exercise-end}\n",
    "```"
   ]
  }
 ],
 "metadata": {
  "kernelspec": {
   "display_name": "mude-week-8",
   "language": "python",
   "name": "python3"
  },
  "language_info": {
   "codemirror_mode": {
    "name": "ipython",
    "version": 3
   },
   "file_extension": ".py",
   "mimetype": "text/x-python",
   "name": "python",
   "nbconvert_exporter": "python",
   "pygments_lexer": "ipython3",
   "version": "3.12.7"
  }
 },
 "nbformat": 4,
 "nbformat_minor": 5
}
