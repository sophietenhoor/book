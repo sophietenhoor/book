{
 "cells": [
  {
   "cell_type": "markdown",
   "id": "9ca780e6-4777-4af4-a3f3-e1444e016768",
   "metadata": {},
   "source": [
    "# Implementation\n",
    "\n",
    "::::::{attention}\n",
    "This page shows a preview of the assignment. Please fork and clone the assignment to work on it locally from [GitHub](https://github.com/CIEM5000-2025/practice-assignments)\n",
    "\n",
    "After the workshop, the solution will be added to this preview and to the [GitHub-repository](https://github.com/CIEM5000-2025/practice-assignments)\n",
    "::::::\n",
    "\n",
    "::::::{versionchanged} v2025.0.3 2025-02-10 13:33, before workshop 1\n",
    "Fixed typo in [Exercise 2.6](exercise2.6)\n",
    "::::::\n",
    "\n",
    "In this notebook you will implement the matrix method and check it with some sanity checks."
   ]
  },
  {
   "cell_type": "markdown",
   "id": "6f99c70c",
   "metadata": {},
   "source": [
    "Our matrix method implementation is now completely stored in a local package, consisting of three classes. If you need a refresher on how to code with Classes and Objects, refer to the [section on Object Oriented Programming in the MUDE-book](https://mude.citg.tudelft.nl/2024/book/external/learn-programming/book/python/oop/classes.html), with additionally [programming assignment 1.7](https://mude.citg.tudelft.nl/2024/files/Week_1_7/PA_1_7_classy_distributions.html)"
   ]
  },
  {
   "cell_type": "markdown",
   "id": "ceab757f",
   "metadata": {},
   "source": [
    "```{custom_download_link} ./Workshop_1_Implement_stripped.ipynb\n",
    ":text: \".ipynb\"\n",
    ":replace_default: \"True\"\n",
    "```\n",
    "\n",
    "```{custom_download_link} ./Workshop_1_Implement.md\n",
    ":text: \".md:myst\"\n",
    ":replace_default: \"False\"\n",
    "```\n",
    "\n",
    "```{custom_download_link} https://github.com/CIEM5000-2025/practice-assignments\n",
    ":text: \"All files practice assignments\"\n",
    ":replace_default: \"False\"\n",
    "```"
   ]
  },
  {
   "cell_type": "code",
   "execution_count": 5,
   "id": "d990e9b2",
   "metadata": {
    "tags": [
     "thebe-remove-input-init"
    ]
   },
   "outputs": [],
   "source": [
    "import matplotlib as plt\n",
    "import numpy as np\n",
    "#sys.path.insert(1, '/matrixmethod_solution')\n",
    "import matrixmethod_solution as mm\n",
    "%config InlineBackend.figure_formats = ['svg']"
   ]
  },
  {
   "cell_type": "code",
   "execution_count": 6,
   "id": "9c3ed629",
   "metadata": {
    "tags": [
     "remove-cell"
    ]
   },
   "outputs": [],
   "source": [
    "import matplotlib as plt\n",
    "import numpy as np\n",
    "import matrixmethod_solution as mm\n",
    "%config InlineBackend.figure_formats = ['svg']"
   ]
  },
  {
   "cell_type": "code",
   "execution_count": 8,
   "id": "67d312a2",
   "metadata": {
    "tags": [
     "disable-execution-cell"
    ]
   },
   "outputs": [],
   "source": [
    "# import numpy as np\n",
    "# import matplotlib as plt\n",
    "# import matrixmethod as mm\n",
    "# %config InlineBackend.figure_formats = ['svg']"
   ]
  },
  {
   "cell_type": "markdown",
   "id": "c31dc366-79fa-4e61-80cb-f4957cec3c5e",
   "metadata": {},
   "source": [
    "## 1. The Node class\n",
    "This class is stored in [`./matrixmethod/node.py`](../matrixmethod/node.md)\n",
    "\n",
    "The purpose of this class is to store node information and keep track of the total number of DOFs of the problem. Note the automatic bookkeeping we introduce in `__init__`. This simple but efficient way of keeping track of which DOFs belong to which nodes will make life much easier when we need to assemble matrices from multiple elements. The Node class doesn't need any modification.\n",
    "\n",
    "```{exercise-start} Workshop 1 - 1.1\n",
    ":label: exercise1.1\n",
    ":nonumber: true\n",
    ":class: exercise\n",
    "\n",
    "To test whether you understand how the class works, create two nodes on coordinates ($0$,$0$) and ($3$,$4$) and print the string representation of both nodes. The `clear` function is called to restart the node and DOF counters. Make sure this is done whenever you start solving a new problem.\n",
    "```"
   ]
  },
  {
   "cell_type": "code",
   "execution_count": 11,
   "id": "ae3d6005",
   "metadata": {},
   "outputs": [
    {
     "name": "stdout",
     "output_type": "stream",
     "text": [
      "This node has:\n",
      " - x coordinate=0,\n",
      " - z coordinate=0,\n",
      " - degrees of freedom=[0, 1, 2],\n",
      " - load vector=[0. 0. 0.]\n",
      "This node has:\n",
      " - x coordinate=3,\n",
      " - z coordinate=4,\n",
      " - degrees of freedom=[3, 4, 5],\n",
      " - load vector=[0. 0. 0.]\n"
     ]
    }
   ],
   "source": [
    "mm.Node.clear()\n",
    "\n",
    "node1 = mm.Node(0, 0)\n",
    "node2 = mm.Node (3, 4)\n",
    "\n",
    "print(node1)\n",
    "print(node2)"
   ]
  },
  {
   "cell_type": "markdown",
   "id": "07bb842c",
   "metadata": {},
   "source": [
    "```{exercise-end}\n",
    "```"
   ]
  },
  {
   "cell_type": "markdown",
   "id": "32ab4896",
   "metadata": {},
   "source": [
    "::::::{hint}\n",
    ":class: dropdown\n",
    "\n",
    "Your output should look like this:\n",
    "\n",
    "```\n",
    "This node has:\n",
    " - x coordinate=0,\n",
    " - z coordinate=0,\n",
    " - degrees of freedom=[0, 1, 2],\n",
    " - load vector=[0. 0. 0.]\n",
    "This node has:\n",
    " - x coordinate=3,\n",
    " - z coordinate=4,\n",
    " - degrees of freedom=[3, 4, 5],\n",
    " - load vector=[0. 0. 0.]\n",
    "```\n",
    "::::::"
   ]
  },
  {
   "cell_type": "markdown",
   "id": "49f943d0-d056-4eb9-b1b3-50ed29ac08b6",
   "metadata": {},
   "source": [
    "## 2. The Element class\n",
    "This class is stored in [`./matrixmethod/elements.py`](../matrixmethod/elements.md)\n",
    "\n",
    "This class keeps track of each element in the model, including:\n",
    "- Cross-section properties\n",
    "- Element orientation (for coordinate system transformations)\n",
    "- Which Nodes make up each element, and in turn (with help of the Node class) which DOFs belong to each element\n",
    "\n",
    "Apart from bookkeeping element data, the other main task of this class is to provide the element stiffness matrix in the global coordinate system (for subsequent assembly) and postprocess element-level fields. For now we keep postprocessing for next week and focus only on getting the correct stiffness matrix.\n",
    "\n",
    "Here the class describes an element combining extension and Euler-Bernoulli bending. A similar (or inherited) class could also be implemented for different element types (*e.g.* shear beam, Timoshenko beam, cable elements, etc). Here we also keep it simple by assuming elements are all arranged in a 2D plane.\n",
    "\n",
    "However, the implementation is incomplete:\n",
    "- The transformation matrix is missing in `__init__`, which is given in [](../lecture1/transformations.md). Make sure you take into account that a positive $\\Delta z$ with a positive $\\Delta x$ gives a negative angle $\\alpha$. Make use of `numpy.arctan2` to return the angle between $-\\pi$ and $\\pi$, `numpy.arctan` returns an angle between $-\\cfrac{\\pi}{2}$ and $-\\cfrac{\\pi}{2}$, and therefore cannot distinguish between all four quadrants.\n",
    "- The correct stiffness matrix for this extension-bending element coordinate system is missing in `stiffness`. You can derive the stiffness matrix yourself using pen and paper, SymPy or Maple, or copy the given stiffness matrix from [](../lecture1/other_elements.ipynb).\n",
    "- We keep the functions which add a distributed load and compute the moments / displacements untouched for this week. Next week we'll implement those as well.\n",
    "\n",
    "\n",
    "```{exercise} Workshop 1 - 2.1\n",
    ":label: exercise2.1\n",
    ":nonumber: true\n",
    "\n",
    "Add the missing pieces to the code in `./matrixmethod/elements.py`, before you perform the checks below. Do you specify your stiffness matrix in the global or local coordinate system?\n",
    "```"
   ]
  },
  {
   "cell_type": "markdown",
   "id": "449ab260",
   "metadata": {},
   "source": [
    "Whenever you make changes to your code in the `./matrixmethod/` folder, you need to reimport those. Instead of restarting the kernel, we use some magic ipython commands. Run the cell below once. Consequently, whenever you save your changes in one of the `.py`-files, it's automatically reloaded."
   ]
  },
  {
   "cell_type": "code",
   "execution_count": 25,
   "id": "b2a9b4fe",
   "metadata": {},
   "outputs": [
    {
     "name": "stdout",
     "output_type": "stream",
     "text": [
      "The autoreload extension is already loaded. To reload it, use:\n",
      "  %reload_ext autoreload\n"
     ]
    }
   ],
   "source": [
    "%load_ext autoreload\n",
    "%autoreload 2"
   ]
  },
  {
   "cell_type": "markdown",
   "id": "97d3624e",
   "metadata": {},
   "source": [
    "::::::{error}\n",
    "Note that in this online book, you cannot make changes to multiple files simultaneously. These instructions are only applicable when you're working on this assignment locally; please fork and clone the assignment to work on it locally from [GitHub](https://github.com/CIEM5000-2025/practice-assignments).\n",
    "::::::\n",
    "\n",
    "```{exercise-start} Workshop 1 - 2.2\n",
    ":label: exercise2.2\n",
    ":nonumber: true\n",
    "\n",
    "First, let's check the stiffness matrix for a beam which doesn't require rotation. Create a horizontal element with length $2$ and $EI=4$ and print both the transformation matrix and the stiffness matrix.\n",
    "\n",
    "Do the matrices match with what you'd expect?\n",
    "```"
   ]
  },
  {
   "cell_type": "code",
   "execution_count": 26,
   "id": "077b2951",
   "metadata": {},
   "outputs": [],
   "source": [
    "mm.Node.clear()\n",
    "mm.Element.clear()"
   ]
  },
  {
   "cell_type": "code",
   "execution_count": 27,
   "id": "b16a1c0a",
   "metadata": {},
   "outputs": [
    {
     "ename": "AttributeError",
     "evalue": "'tuple' object has no attribute 'x'",
     "output_type": "error",
     "traceback": [
      "\u001b[1;31m---------------------------------------------------------------------------\u001b[0m",
      "\u001b[1;31mAttributeError\u001b[0m                            Traceback (most recent call last)",
      "Cell \u001b[1;32mIn[27], line 3\u001b[0m\n\u001b[0;32m      1\u001b[0m \u001b[38;5;66;03m#YOUR CODE HERE\u001b[39;00m\n\u001b[1;32m----> 3\u001b[0m elem \u001b[38;5;241m=\u001b[39m \u001b[43mmm\u001b[49m\u001b[38;5;241;43m.\u001b[39;49m\u001b[43mElement\u001b[49m\u001b[43m(\u001b[49m\u001b[43m(\u001b[49m\u001b[38;5;241;43m0\u001b[39;49m\u001b[43m,\u001b[49m\u001b[43m \u001b[49m\u001b[38;5;241;43m0\u001b[39;49m\u001b[43m)\u001b[49m\u001b[43m,\u001b[49m\u001b[43m \u001b[49m\u001b[43m(\u001b[49m\u001b[38;5;241;43m0\u001b[39;49m\u001b[43m,\u001b[49m\u001b[43m \u001b[49m\u001b[38;5;241;43m2\u001b[39;49m\u001b[43m)\u001b[49m\u001b[43m)\u001b[49m\n\u001b[0;32m      5\u001b[0m section \u001b[38;5;241m=\u001b[39m {}\n\u001b[0;32m      6\u001b[0m section[\u001b[38;5;124m'\u001b[39m\u001b[38;5;124mEI\u001b[39m\u001b[38;5;124m'\u001b[39m] \u001b[38;5;241m=\u001b[39m \u001b[38;5;241m4\u001b[39m \n",
      "File \u001b[1;32mc:\\Users\\31643\\OneDrive - Delft University of Technology\\Documenten\\Msc\\Mechanics of slender structures\\Q3\\Nieuwe map\\book\\book\\workshop1\\matrixmethod_solution\\elements.py:69\u001b[0m, in \u001b[0;36mElement.__init__\u001b[1;34m(self, node1, node2)\u001b[0m\n\u001b[0;32m     49\u001b[0m \u001b[38;5;250m\u001b[39m\u001b[38;5;124;03m\"\"\"\u001b[39;00m\n\u001b[0;32m     50\u001b[0m \u001b[38;5;124;03mInitializes an Element object.\u001b[39;00m\n\u001b[0;32m     51\u001b[0m \n\u001b[1;32m   (...)\u001b[0m\n\u001b[0;32m     65\u001b[0m \u001b[38;5;124;03mNone\u001b[39;00m\n\u001b[0;32m     66\u001b[0m \u001b[38;5;124;03m\"\"\"\u001b[39;00m\n\u001b[0;32m     67\u001b[0m \u001b[38;5;28mself\u001b[39m\u001b[38;5;241m.\u001b[39mnodes \u001b[38;5;241m=\u001b[39m [node1, node2]\n\u001b[1;32m---> 69\u001b[0m \u001b[38;5;28mself\u001b[39m\u001b[38;5;241m.\u001b[39mL \u001b[38;5;241m=\u001b[39m np\u001b[38;5;241m.\u001b[39msqrt((\u001b[38;5;28;43mself\u001b[39;49m\u001b[38;5;241;43m.\u001b[39;49m\u001b[43mnodes\u001b[49m\u001b[43m[\u001b[49m\u001b[38;5;241;43m1\u001b[39;49m\u001b[43m]\u001b[49m\u001b[38;5;241;43m.\u001b[39;49m\u001b[43mx\u001b[49m \u001b[38;5;241m-\u001b[39m \u001b[38;5;28mself\u001b[39m\u001b[38;5;241m.\u001b[39mnodes[\u001b[38;5;241m0\u001b[39m]\u001b[38;5;241m.\u001b[39mx)\u001b[38;5;241m*\u001b[39m\u001b[38;5;241m*\u001b[39m\u001b[38;5;241m2.0\u001b[39m \u001b[38;5;241m+\u001b[39m (\u001b[38;5;28mself\u001b[39m\u001b[38;5;241m.\u001b[39mnodes[\u001b[38;5;241m1\u001b[39m]\u001b[38;5;241m.\u001b[39mz \u001b[38;5;241m-\u001b[39m \u001b[38;5;28mself\u001b[39m\u001b[38;5;241m.\u001b[39mnodes[\u001b[38;5;241m0\u001b[39m]\u001b[38;5;241m.\u001b[39mz)\u001b[38;5;241m*\u001b[39m\u001b[38;5;241m*\u001b[39m\u001b[38;5;241m2.0\u001b[39m)\n\u001b[0;32m     71\u001b[0m alpha \u001b[38;5;241m=\u001b[39m np\u001b[38;5;241m.\u001b[39marctan2( \u001b[38;5;241m-\u001b[39m (\u001b[38;5;28mself\u001b[39m\u001b[38;5;241m.\u001b[39mnodes[\u001b[38;5;241m1\u001b[39m]\u001b[38;5;241m.\u001b[39mz \u001b[38;5;241m-\u001b[39m \u001b[38;5;28mself\u001b[39m\u001b[38;5;241m.\u001b[39mnodes[\u001b[38;5;241m0\u001b[39m]\u001b[38;5;241m.\u001b[39mz) , (\u001b[38;5;28mself\u001b[39m\u001b[38;5;241m.\u001b[39mnodes[\u001b[38;5;241m1\u001b[39m]\u001b[38;5;241m.\u001b[39mx \u001b[38;5;241m-\u001b[39m \u001b[38;5;28mself\u001b[39m\u001b[38;5;241m.\u001b[39mnodes[\u001b[38;5;241m0\u001b[39m]\u001b[38;5;241m.\u001b[39mx))\n\u001b[0;32m     73\u001b[0m T \u001b[38;5;241m=\u001b[39m np\u001b[38;5;241m.\u001b[39mzeros((\u001b[38;5;241m6\u001b[39m, \u001b[38;5;241m6\u001b[39m))\n",
      "\u001b[1;31mAttributeError\u001b[0m: 'tuple' object has no attribute 'x'"
     ]
    }
   ],
   "source": [
    "#YOUR CODE HERE\n",
    "\n",
    "elem = mm.Element((0, 0), (0, 2))\n",
    "\n",
    "section = {}\n",
    "section['EI'] = 4 \n",
    "elem.set_section(section)\n",
    "\n",
    "print(elem.T)\n",
    "print(elem.stiffness())"
   ]
  },
  {
   "cell_type": "markdown",
   "id": "008db7ef",
   "metadata": {},
   "source": [
    "```{exercise-end}\n",
    "```\n",
    "\n",
    "```{exercise-start} Workshop 1 - 2.3\n",
    ":label: exercise2.3\n",
    ":nonumber: true\n",
    "\n",
    "Now, create a vertical element with length $2$ and $EI=4$ and print the transformation and stiffness matrix.\n",
    "\n",
    "Do the matrices match with what you'd expect?\n",
    "```"
   ]
  },
  {
   "cell_type": "code",
   "execution_count": null,
   "id": "c047cded",
   "metadata": {},
   "outputs": [],
   "source": [
    "#YOUR CODE HERE"
   ]
  },
  {
   "cell_type": "markdown",
   "id": "fc217b68",
   "metadata": {},
   "source": [
    "```{exercise-end}\n",
    "```\n",
    "\n",
    "```{exercise-start} Workshop 1 - 2.4\n",
    ":label: exercise2.4\n",
    ":nonumber: true\n",
    "\n",
    "Now, create an element rotated in $120^{\\circ}$ with length $2$ and print the transformation matrix.\n",
    "\n",
    "Do the matrices match with what you'd expect?\n",
    "```"
   ]
  },
  {
   "cell_type": "code",
   "execution_count": null,
   "id": "d8f52162",
   "metadata": {},
   "outputs": [],
   "source": [
    "#YOUR CODE HERE"
   ]
  },
  {
   "cell_type": "markdown",
   "id": "21ee1ec3",
   "metadata": {},
   "source": [
    "```{exercise-end}\n",
    "```\n",
    "\n",
    "```{exercise-start} Workshop 1 - 2.5\n",
    ":label: exercise2.5\n",
    ":nonumber: true\n",
    "\n",
    "Now, create an element rotated in $60^{\\circ}$ with length $2$ and print the transformation matrix.\n",
    "\n",
    "Do the matrices match with what you'd expect?\n",
    "```"
   ]
  },
  {
   "cell_type": "code",
   "execution_count": null,
   "id": "eca0a1a6",
   "metadata": {},
   "outputs": [],
   "source": [
    "#YOUR CODE HERE"
   ]
  },
  {
   "cell_type": "markdown",
   "id": "5cfbb503",
   "metadata": {},
   "source": [
    "```{exercise-end}\n",
    "```\n",
    "\n",
    "```{exercise-start} Workshop 1 - 2.6\n",
    ":label: exercise2.6\n",
    ":nonumber: true\n",
    "\n",
    "For the previous element, a global displacement vector $\\mathbf{u}^{(e)} = \\begin{bmatrix} 0 \\\\0 \\\\ 0 \\\\ \\sqrt{3} \\\\ 1 \\\\ 0 \\end{bmatrix}$ is given. What would be the local displacement vector $\\bar{\\mathbf{u}}^{(e)}$?\n",
    "\n",
    "Check your answer using pen and paper. Tip: make a drawing instead of doing all the algebra.\n",
    "```"
   ]
  },
  {
   "cell_type": "code",
   "execution_count": null,
   "id": "6b1d4c66",
   "metadata": {},
   "outputs": [],
   "source": [
    "#YOUR CODE HERE"
   ]
  },
  {
   "cell_type": "markdown",
   "id": "617ebc19-9b4c-4528-9a46-4643b4c248b5",
   "metadata": {},
   "source": [
    "```{exercise-end}\n",
    "```\n",
    "\n",
    "## 3. The Constrainer class\n",
    "This class is stored in [`./matrixmethod/constrainer.py`](../matrixmethod/constrainer.md)\n",
    "\n",
    "This small class keeps track of which DOFs have prescribed displacements and takes care of applying these constraints to the global $\\mathbf{K}$ and $\\mathbf{f}$. For now we keep it simple and assume all constraints fix the DOF values to zero. Next week we will deal with non-zero prescribed values. \n",
    "\n",
    "However, the implementation is incomplete:\n",
    "- The `constrain` function is incomplete, which should mimic the process of striking rows/columns of constrained DOFs and reduce the size of the system to be solved. Remember that `Constrainer` stores which DOFs are constrained in `self.dofs`, so **all the others** should be free. After gathering the free DOFs in an array, you will need to select the correct blocks of $\\mathbf{K}$ and $\\mathbf{f}$. For the stiffness matrix you will need the `np.ix_()` helper function (check its documentation [here](https://numpy.org/doc/stable/reference/generated/numpy.ix_.html))\n",
    "- We keep the function which calculates supports reaction untouched for this week. Next week we'll implement that one as well."
   ]
  },
  {
   "cell_type": "markdown",
   "id": "dc485b61",
   "metadata": {},
   "source": [
    "```{exercise} Workshop 1 - 3.1\n",
    ":label: exercise3.1\n",
    ":nonumber: true\n",
    "\n",
    "Add the missing pieces to the code, before you perform the check below\n",
    "```\n",
    "\n",
    "```{exercise-start} Workshop 1 - 3.2\n",
    ":label: exercise3.2\n",
    ":nonumber: true\n",
    "\n",
    "Take the inclined element of exercise 2.5 and a bending stiffness of $1$. What happens if you invert $\\mathbf{K}$? Now fix all degrees of freedom of the first node. What happens when you invert your 'constrained' $\\mathbf{K}$? Are the dimensions of the 'constrained' $\\mathbf{K}$ correct?\n",
    "```"
   ]
  },
  {
   "cell_type": "code",
   "execution_count": null,
   "id": "4712d452",
   "metadata": {},
   "outputs": [],
   "source": [
    "#YOUR CODE HERE\n",
    "\n",
    "con = mm.Constrainer()\n",
    "\n",
    "#YOUR CODE HERE\n",
    "\n",
    "f = np.zeros (6) #empty load vector\n",
    "Kff, Fff = con.constrain( K, F )\n",
    "print(np.shape(np.linalg.inv(Kff)))"
   ]
  },
  {
   "cell_type": "markdown",
   "id": "f533d95e-9d5a-41ff-ad97-6ddb878fa8ba",
   "metadata": {},
   "source": [
    "```{exercise-end}\n",
    "```\n",
    "\n",
    "## 4. Full implementation extension bar\n",
    "\n",
    "Having made our implementations, we now check them with two simple examples that serve as sanity checks. The first is a simple bar undergoing extension:"
   ]
  },
  {
   "cell_type": "markdown",
   "id": "6b362653-7297-4186-b8ff-b472e7a962be",
   "metadata": {},
   "source": [
    "```{figure} https://raw.githubusercontent.com/ibcmrocha/public/main/extpointload.png\n",
    ":align: center\n",
    ":width: 200\n",
    "```\n",
    "\n",
    "With $EA = 1000$, $F = 100$ and $L = 1$."
   ]
  },
  {
   "cell_type": "markdown",
   "id": "b55b9565-c5c5-4d3c-8170-9075bfc33b3c",
   "metadata": {},
   "source": [
    "Use the code blocks below to set up and solve this problem using the classes above. The steps to follow are outlined below and short explanations/hints are given. Once you have a solution for the horizontal displacement of the node at the right end of the bar, compare it to the analytical solution you obtained in the first half of the course."
   ]
  },
  {
   "cell_type": "code",
   "execution_count": null,
   "id": "dd462385-94f2-4240-9ba2-0bd9fe68ba3c",
   "metadata": {},
   "outputs": [],
   "source": [
    "mm.Node.clear()\n",
    "mm.Element.clear()"
   ]
  },
  {
   "cell_type": "markdown",
   "id": "46936274-8e81-41c9-997a-2b7549220811",
   "metadata": {},
   "source": [
    "```{exercise-start} Workshop 1 - 4.1\n",
    ":nonumber: true\n",
    ":label: exercise4.1\n",
    "\n",
    "Create two nodes here. You can store them on a `list` or simply create them as two separate objects (*e.g.* `node1` and `node2`).\n",
    "```"
   ]
  },
  {
   "cell_type": "code",
   "execution_count": null,
   "id": "0ca6c018-0f98-4769-892c-cfdba0fea635",
   "metadata": {},
   "outputs": [],
   "source": [
    "#YOUR CODE HERE"
   ]
  },
  {
   "cell_type": "markdown",
   "id": "6e9d9982-47ec-481f-bf5c-8075f5d935c6",
   "metadata": {},
   "source": [
    "```{exercise-end}\n",
    "```\n",
    "\n",
    "```{exercise-start} Workshop 1 - 4.2\n",
    ":nonumber: true\n",
    ":label: exercise4.2\n",
    "\n",
    "Here we only have a single element, so there is no need to store it in a `list` yet. You are also going to need a `dict` defining the cross-section of the element.\n",
    "```"
   ]
  },
  {
   "cell_type": "code",
   "execution_count": null,
   "id": "e1f2c0b6-983d-4deb-b4da-e264aa2b89b7",
   "metadata": {},
   "outputs": [],
   "source": [
    "#YOUR CODE HERE"
   ]
  },
  {
   "cell_type": "markdown",
   "id": "fe4eaa08-3987-49cf-b4d1-8912c2a03cc3",
   "metadata": {},
   "source": [
    "```{exercise-end}\n",
    "```\n",
    "\n",
    "```{exercise-start} Workshop 1 - 4.3\n",
    ":nonumber: true\n",
    ":label: exercise4.3\n",
    "\n",
    "Let's define the boundary conditions. We create an instance of the `Constrainer` class to deal with prescribed displacements. Take a look at its functions and inform if Node 1 is fully fixed.\n",
    "\n",
    "You also need to pass the load $F$ on to Node 2. Check the member functions of `Node` to infer how that should be done.\n",
    "```"
   ]
  },
  {
   "cell_type": "code",
   "execution_count": null,
   "id": "6519786e-e29a-40eb-b0c4-dc4799eca0d3",
   "metadata": {},
   "outputs": [],
   "source": [
    "#YOUR CODE HERE"
   ]
  },
  {
   "cell_type": "markdown",
   "id": "520ca9f3-1be7-4ed8-a653-92ccbda4d2af",
   "metadata": {},
   "source": [
    "```{exercise-end}\n",
    "```\n",
    "\n",
    "```{exercise-start} Workshop 1 - 4.4\n",
    ":nonumber: true\n",
    ":label: exercise4.4\n",
    "\n",
    "Now assemble the global stiffness matrix and force vector. Since we only have one element, there is no real assembly to be performed other than getting the stiffness matrix of the single element and storing the load at Node 2 in the correct positions of $\\mathbf{f}$.\n",
    "```"
   ]
  },
  {
   "cell_type": "code",
   "execution_count": null,
   "id": "fbb91539-ff16-4acf-8d91-546e2f7c77fa",
   "metadata": {},
   "outputs": [],
   "source": [
    "#YOUR CODE HERE"
   ]
  },
  {
   "cell_type": "markdown",
   "id": "75e1e140-e2ea-4eb7-a019-1a21fda06bfe",
   "metadata": {},
   "source": [
    "```{exercise-end}\n",
    "```\n",
    "\n",
    "```{exercise-start} Workshop 1 - 4.5\n",
    ":nonumber: true\n",
    ":label: exercise4.5\n",
    "\n",
    "Constrain the problem and solve for nodal displacements.\n",
    "```"
   ]
  },
  {
   "cell_type": "code",
   "execution_count": null,
   "id": "0d5351ad-7c75-4e5e-bcf2-e1b78c89379d",
   "metadata": {},
   "outputs": [],
   "source": [
    "#YOUR CODE HERE"
   ]
  },
  {
   "cell_type": "markdown",
   "id": "a96fac7b-5ad3-495f-8ff7-9b6e41941254",
   "metadata": {},
   "source": [
    "```{exercise-end}\n",
    "```\n",
    "\n",
    "```{exercise-start} Workshop 1 - 4.6\n",
    ":nonumber: true\n",
    ":label: exercise4.6\n",
    "\n",
    "Finally, compare the displacement at the end of the bar with the one coming from the ODE solution. Note that since our element is already suitable for frames combining extension and bending, $\\mathbf{u}$ has three entries. Which one is the entry that matters to us here? Did your solutions match? If so, that is a sign your implementation is correct. Can you use the function `full_disp` to obtain a vector of all displacements?\n",
    "```"
   ]
  },
  {
   "cell_type": "code",
   "execution_count": null,
   "id": "8e518f1f",
   "metadata": {},
   "outputs": [],
   "source": [
    "#EVENTUALLY YOUR CODE HERE"
   ]
  },
  {
   "cell_type": "markdown",
   "id": "cd2fb53e-14a5-4564-9f1f-4a35cdb34456",
   "metadata": {},
   "source": [
    "```{exercise-end}\n",
    "```\n",
    "\n",
    "## 5. Full implementation bending beam\n",
    "\n",
    "In the first example above we tested our model under extension. But that does not really guarantee it will behave correctly in bending. That is the goal of this second sanity check. Let's solve the following problem:\n",
    "\n",
    "```{figure} https://raw.githubusercontent.com/ibcmrocha/public/main/cantilever.png\n",
    ":align: center\n",
    ":width: 200\n",
    "```\n",
    "\n",
    "Choose appropriate values yourself\n",
    "\n",
    "When setting up and solving your model, note that we are now interested in $w$ displacements, our load is now vertical and the cross-section property driving our deformation is now $EI$. Good luck!"
   ]
  },
  {
   "cell_type": "code",
   "execution_count": null,
   "id": "36f0307e-51a7-45b9-82d9-72e9e03eced2",
   "metadata": {},
   "outputs": [],
   "source": [
    "mm.Node.clear()\n",
    "mm.Element.clear()"
   ]
  },
  {
   "cell_type": "markdown",
   "id": "4a525976",
   "metadata": {},
   "source": [
    "```{exercise-start} Workshop 1 - 5.1\n",
    ":label: exercise5.1\n",
    ":nonumber: true\n",
    "\n",
    "Create nodes\n",
    "```"
   ]
  },
  {
   "cell_type": "code",
   "execution_count": null,
   "id": "3f78fa42-1c02-4aae-8f2a-9fb81ea93e74",
   "metadata": {},
   "outputs": [],
   "source": [
    "#YOUR CODE HERE"
   ]
  },
  {
   "cell_type": "markdown",
   "id": "f01c1428",
   "metadata": {},
   "source": [
    "```{exercise-end}\n",
    "```\n",
    "\n",
    "```{exercise-start} Workshop 1 - 5.2\n",
    ":label: exercise5.2\n",
    ":nonumber: true\n",
    "\n",
    "Create element\n",
    "```"
   ]
  },
  {
   "cell_type": "code",
   "execution_count": null,
   "id": "27703dd0-8596-434f-9300-6c81bf7078d7",
   "metadata": {},
   "outputs": [],
   "source": [
    "#YOUR CODE HERE"
   ]
  },
  {
   "cell_type": "markdown",
   "id": "a937df1e",
   "metadata": {},
   "source": [
    "```{exercise-end}\n",
    "```\n",
    "\n",
    "```{exercise-start} Workshop 1 - 5.3\n",
    ":label: exercise5.3\n",
    ":nonumber: true\n",
    "\n",
    "Set boundary conditions\n",
    "```"
   ]
  },
  {
   "cell_type": "code",
   "execution_count": null,
   "id": "b0174ba8-1060-4bf2-b2cb-fee8b9cd4c80",
   "metadata": {},
   "outputs": [],
   "source": [
    "#YOUR CODE HERE"
   ]
  },
  {
   "cell_type": "markdown",
   "id": "07a4f4c1",
   "metadata": {},
   "source": [
    "```{exercise-end}\n",
    "```\n",
    "\n",
    "```{exercise-start} Workshop 1 - 5.4\n",
    ":label: exercise5.4\n",
    ":nonumber: true\n",
    "\n",
    "Assemble the system of equations.\n",
    "```"
   ]
  },
  {
   "cell_type": "code",
   "execution_count": null,
   "id": "719d70a4-ab68-4a52-a538-ac0440ca7c64",
   "metadata": {},
   "outputs": [],
   "source": [
    "#YOUR CODE HERE"
   ]
  },
  {
   "cell_type": "markdown",
   "id": "c2c0c045",
   "metadata": {},
   "source": [
    "```{exercise-end}\n",
    "```\n",
    "\n",
    "```{exercise-start} Workshop 1 - 5.5\n",
    ":label: exercise5.5\n",
    ":nonumber: true\n",
    "\n",
    "Constrain the problem and solve for nodal displacements\n",
    "```"
   ]
  },
  {
   "cell_type": "code",
   "execution_count": null,
   "id": "f940d04c-7440-4910-a7b0-d016f6b49548",
   "metadata": {},
   "outputs": [],
   "source": [
    "#YOUR CODE HERE"
   ]
  },
  {
   "cell_type": "markdown",
   "id": "788d9b98",
   "metadata": {},
   "source": [
    "```{exercise-end}\n",
    "```\n",
    "\n",
    "```{exercise-start} Workshop 1 - 5.6\n",
    ":label: exercise5.6\n",
    ":nonumber: true\n",
    "\n",
    "Check with the analytical solution\n",
    "\n",
    "Did your solutions match? If so, your implementation is correct!\n",
    "```"
   ]
  },
  {
   "cell_type": "code",
   "execution_count": null,
   "id": "ca4f05ad",
   "metadata": {},
   "outputs": [],
   "source": [
    "#EVENTUALLY YOUR CODE HERE"
   ]
  },
  {
   "cell_type": "markdown",
   "id": "b19d0894",
   "metadata": {},
   "source": [
    "```{exercise-end}\n",
    "```"
   ]
  }
 ],
 "metadata": {
  "kernelspec": {
   "display_name": "mude-week-8",
   "language": "python",
   "name": "python3"
  },
  "language_info": {
   "codemirror_mode": {
    "name": "ipython",
    "version": 3
   },
   "file_extension": ".py",
   "mimetype": "text/x-python",
   "name": "python",
   "nbconvert_exporter": "python",
   "pygments_lexer": "ipython3",
   "version": "3.12.7"
  }
 },
 "nbformat": 4,
 "nbformat_minor": 5
}
